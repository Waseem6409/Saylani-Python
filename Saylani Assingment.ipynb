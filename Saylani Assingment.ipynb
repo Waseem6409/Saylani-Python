{
 "cells": [
  {
   "cell_type": "markdown",
   "metadata": {},
   "source": [
    "# Python Programming Language\n",
    "\n",
    "# Assignmnet # 1"
   ]
  },
  {
   "cell_type": "markdown",
   "metadata": {},
   "source": [
    "# 1. Write a Python program to print the following string in a specific format\n",
    "#(see the output).\n",
    "\n",
    "\n",
    "# Twinkle, twinkle, little star,\n",
    "# How I wonder what you are!\n",
    "# Up above the world so high,\n",
    "# Like a diamond in the sky.\n",
    "\n",
    "# Twinkle, twinkle, little star,\n",
    "# How I wonder what you are"
   ]
  },
  {
   "cell_type": "code",
   "execution_count": 1,
   "metadata": {},
   "outputs": [
    {
     "name": "stdout",
     "output_type": "stream",
     "text": [
      "Twinkle, twinkle, little star,\n",
      "      How I wonder what you are! \n",
      "      Up above the world so high,\n",
      "      Like a diamond in the sky.\n",
      "Twinkle, twinkle, little star,\n",
      "      How I wonder what you are\n"
     ]
    }
   ],
   "source": [
    "print(\"Twinkle, twinkle, little star,\\n      How I wonder what you are! \\n      Up above the world so high,\\n      Like a diamond in the sky.\\nTwinkle, twinkle, little star,\\n      How I wonder what you are\")"
   ]
  },
  {
   "cell_type": "markdown",
   "metadata": {},
   "source": [
    "# 2. Write a Python program to get the Python version you are using"
   ]
  },
  {
   "cell_type": "code",
   "execution_count": 2,
   "metadata": {},
   "outputs": [
    {
     "name": "stdout",
     "output_type": "stream",
     "text": [
      "6.3.9600\n"
     ]
    }
   ],
   "source": [
    "import platform as pv\n",
    "print(pv.version())\n"
   ]
  },
  {
   "cell_type": "markdown",
   "metadata": {},
   "source": [
    "# 3. Write a Python program to display the current date and time."
   ]
  },
  {
   "cell_type": "code",
   "execution_count": 3,
   "metadata": {},
   "outputs": [
    {
     "data": {
      "text/plain": [
       "datetime.datetime(2019, 12, 16, 0, 0)"
      ]
     },
     "execution_count": 3,
     "metadata": {},
     "output_type": "execute_result"
    }
   ],
   "source": [
    "import datetime as dt\n",
    "dt.datetime(2019,12,16)"
   ]
  },
  {
   "cell_type": "markdown",
   "metadata": {},
   "source": [
    "# 4. Write a Python program which accepts the radius of a circle from the user\n",
    "and compute the area."
   ]
  },
  {
   "cell_type": "code",
   "execution_count": 4,
   "metadata": {},
   "outputs": [
    {
     "name": "stdout",
     "output_type": "stream",
     "text": [
      "5\n"
     ]
    }
   ],
   "source": [
    "R = float(input())"
   ]
  },
  {
   "cell_type": "markdown",
   "metadata": {},
   "source": [
    "# 5. Write a Python program which accepts the user's first and last name and\n",
    "print them in reverse order with a space between them."
   ]
  },
  {
   "cell_type": "code",
   "execution_count": 5,
   "metadata": {},
   "outputs": [
    {
     "name": "stdout",
     "output_type": "stream",
     "text": [
      "Enter First Name   4\n",
      "Enter Second Name   4\n"
     ]
    }
   ],
   "source": [
    "first = input(\"Enter First Name   \")\n",
    "second = input(\"Enter Second Name   \")\n",
    "lis = []\n",
    "for i in  first:\n",
    "    lis.append(i)\n",
    "for j in second:\n",
    "    lis.append(j)\n"
   ]
  },
  {
   "cell_type": "code",
   "execution_count": 6,
   "metadata": {},
   "outputs": [
    {
     "data": {
      "text/plain": [
       "['4', '4']"
      ]
     },
     "execution_count": 6,
     "metadata": {},
     "output_type": "execute_result"
    }
   ],
   "source": [
    "lis[::-1]\n",
    "    "
   ]
  },
  {
   "cell_type": "code",
   "execution_count": 7,
   "metadata": {},
   "outputs": [
    {
     "name": "stdout",
     "output_type": "stream",
     "text": [
      "44\n"
     ]
    }
   ],
   "source": [
    "# Another Method to Reverse String \n",
    "print(second[::-1] + first[::-1])"
   ]
  },
  {
   "cell_type": "markdown",
   "metadata": {},
   "source": [
    "# 6. Write a python program which takes two inputs from user and print them\n",
    "addition"
   ]
  },
  {
   "cell_type": "code",
   "execution_count": 8,
   "metadata": {},
   "outputs": [
    {
     "name": "stdout",
     "output_type": "stream",
     "text": [
      "4\n",
      "4\n",
      "First Input 4 \n",
      "Second Input 4\n"
     ]
    }
   ],
   "source": [
    "In1 = input(); In2 = input();\n",
    "print(\"First Input {} \\nSecond Input {}\".format(In1,In2))"
   ]
  },
  {
   "cell_type": "markdown",
   "metadata": {},
   "source": [
    "# Assignment # 2"
   ]
  },
  {
   "cell_type": "markdown",
   "metadata": {},
   "source": [
    "# 1. Write a program which takes 5 inputs from user for different subject’s marks, total it and generate mark sheet using grades ?"
   ]
  },
  {
   "cell_type": "code",
   "execution_count": 43,
   "metadata": {},
   "outputs": [
    {
     "name": "stdout",
     "output_type": "stream",
     "text": [
      "Enter First Subject's Marks 4\n",
      "Enter Second Subject's Marks 5\n",
      "Enter Third Subject's Marks 5\n",
      "Enter Fourth Subject's Marks 5\n",
      "Enter Fifith Subject's Marks 5\n"
     ]
    }
   ],
   "source": [
    "InMarks1 = float(input(\"Enter First Subject's Marks \"))\n",
    "InMarks2 = float(input(\"Enter Second Subject's Marks \"))\n",
    "InMarks3 = float(input(\"Enter Third Subject's Marks \"))\n",
    "InMarks4 = float(input(\"Enter Fourth Subject's Marks \"))\n",
    "InMarks5 = float(input(\"Enter Fifith Subject's Marks \"))"
   ]
  },
  {
   "cell_type": "code",
   "execution_count": 46,
   "metadata": {},
   "outputs": [
    {
     "name": "stdout",
     "output_type": "stream",
     "text": [
      "                                 MARKS SHEET                            \n",
      "--------------------------------------------------------------------------\n",
      "           Subject 1 Mark: 4.0\n",
      "           Subject 2 Mark: 4.0\n",
      "           Subject 3 Mark: 4.0\n",
      "           Subject 4 Mark: 4.0\n",
      "           Subject 5 Mark: 4.0\n",
      " \n",
      "\n",
      "\n",
      "                                 Total Marks    500.0\n",
      "                                 Obtained Marks 24.0\n",
      "                                 Grade  Failed\n"
     ]
    }
   ],
   "source": [
    "print(\"                                 MARKS SHEET                            \")\n",
    "print(\"--------------------------------------------------------------------------\")\n",
    "print(\"           Subject 1 Mark: {}\".format(InMarks1))\n",
    "print(\"           Subject 2 Mark: {}\".format(InMarks1))\n",
    "print(\"           Subject 3 Mark: {}\".format(InMarks1))\n",
    "print(\"           Subject 4 Mark: {}\".format(InMarks1))\n",
    "print(\"           Subject 5 Mark: {}\".format(InMarks1))\n",
    "Obained_marks = InMarks1 +InMarks2+InMarks3+InMarks4+InMarks5\n",
    "print (\" \\n\\n\\n                                 Total Marks    500.0\")\n",
    "print (\"                                 Obtained Marks {}\".format(Obained_marks))\n",
    "if Obained_marks == 500 or Obained_marks >= 400:\n",
    "    status = \"A++\"\n",
    "elif Obained_marks == 399 or Obained_marks >= 350:\n",
    "    status = \"A\"\n",
    "elif Obained_marks == 349 or Obained_marks >= 300:\n",
    "    status = \"B\"\n",
    "elif Obained_marks == 299 or Obained_marks >= 250:\n",
    "    status = \"C\"\n",
    "else:\n",
    "    status = \"Failed\"\n",
    "print (\"                                 Grade  {}\".format(status))\n"
   ]
  },
  {
   "cell_type": "markdown",
   "metadata": {},
   "source": [
    "# 2. Write a program which take input from user and identify that the given number is even or odd?"
   ]
  },
  {
   "cell_type": "code",
   "execution_count": 1,
   "metadata": {},
   "outputs": [
    {
     "name": "stdout",
     "output_type": "stream",
     "text": [
      "Enter Any Whole Number4\n"
     ]
    }
   ],
   "source": [
    "EvOd_chek = int(input(\"Enter Any Whole Number\"))\n"
   ]
  },
  {
   "cell_type": "code",
   "execution_count": 8,
   "metadata": {},
   "outputs": [
    {
     "data": {
      "text/plain": [
       "0"
      ]
     },
     "execution_count": 8,
     "metadata": {},
     "output_type": "execute_result"
    }
   ],
   "source": [
    "EvOd_chek% 2"
   ]
  },
  {
   "cell_type": "code",
   "execution_count": 10,
   "metadata": {},
   "outputs": [
    {
     "name": "stdout",
     "output_type": "stream",
     "text": [
      "The 4 Number is Even\n"
     ]
    }
   ],
   "source": [
    "if EvOd_chek % 2 == 0:\n",
    "    print(\"The {} Number is Even\".format(EvOd_chek))\n",
    "else:\n",
    "    print(\"The {} Number is Odd\".format(EvOd_chek))"
   ]
  },
  {
   "cell_type": "markdown",
   "metadata": {},
   "source": [
    "# 3. Write a program which print the length of the list?"
   ]
  },
  {
   "cell_type": "code",
   "execution_count": 11,
   "metadata": {},
   "outputs": [
    {
     "name": "stdout",
     "output_type": "stream",
     "text": [
      "7\n"
     ]
    }
   ],
   "source": [
    "lis = ['karachi','hydrabad','kashmore','nawabshah','taatha','sakar','mirpurkash']\n",
    "print(len(lis))"
   ]
  },
  {
   "cell_type": "markdown",
   "metadata": {},
   "source": [
    "# 4. Write a Python program to sum all the numeric items in a list?"
   ]
  },
  {
   "cell_type": "code",
   "execution_count": 33,
   "metadata": {},
   "outputs": [],
   "source": [
    "sum = 0\n",
    "NumLis = [1,2,3,400,5,6,7,8,9]\n",
    "for i in NumLis:\n",
    "    sum += i"
   ]
  },
  {
   "cell_type": "code",
   "execution_count": 34,
   "metadata": {},
   "outputs": [
    {
     "name": "stdout",
     "output_type": "stream",
     "text": [
      "441\n"
     ]
    }
   ],
   "source": [
    "print(sum)"
   ]
  },
  {
   "cell_type": "markdown",
   "metadata": {},
   "source": [
    "# 5. Write a Python program to get the largest number from a numeric list."
   ]
  },
  {
   "cell_type": "code",
   "execution_count": 35,
   "metadata": {},
   "outputs": [],
   "source": [
    "j = 0\n",
    "for i in NumLis:\n",
    "    if i > j:\n",
    "        j = i"
   ]
  },
  {
   "cell_type": "code",
   "execution_count": 38,
   "metadata": {},
   "outputs": [
    {
     "name": "stdout",
     "output_type": "stream",
     "text": [
      "Largest Number is 400\n"
     ]
    }
   ],
   "source": [
    "print(\"Largest Number is {}\".format(j))"
   ]
  },
  {
   "cell_type": "markdown",
   "metadata": {},
   "source": [
    "# 6. Take a list, say for example this one:a = [1, 1, 2, 3, 5, 8, 13, 21, 34, 55, 89]and write a program that prints out all the elements of the list that are  less than 5."
   ]
  },
  {
   "cell_type": "code",
   "execution_count": 40,
   "metadata": {},
   "outputs": [
    {
     "name": "stdout",
     "output_type": "stream",
     "text": [
      "1\n",
      "1\n",
      "2\n",
      "3\n"
     ]
    }
   ],
   "source": [
    "a = [1, 1, 2, 3, 5, 8, 13, 21, 34, 55, 89]\n",
    "for i in a:\n",
    "    if i < 5:\n",
    "        print(i)\n"
   ]
  },
  {
   "cell_type": "markdown",
   "metadata": {},
   "source": [
    "# Python Programming Language\n",
    "# Assignmnet # 3"
   ]
  },
  {
   "cell_type": "markdown",
   "metadata": {},
   "source": [
    "# 1. Make a calculator using Python with addition , subtraction , multiplication , division and power."
   ]
  },
  {
   "cell_type": "code",
   "execution_count": 47,
   "metadata": {},
   "outputs": [
    {
     "name": "stdout",
     "output_type": "stream",
     "text": [
      "Enter 1 for Addition \n",
      "Enter 2 For Subtraction\n",
      "Enter 3 For Multiplication\n",
      "Enter 4 For Division\n",
      "Enter 5 For Power\n",
      "Enter Which Operation You Want to Performed2\n",
      "5\n",
      "6\n",
      "-1.0\n"
     ]
    }
   ],
   "source": [
    "print(\"Enter 1 for Addition \\nEnter 2 For Subtraction\\nEnter 3 For Multiplication\\nEnter 4 For Division\\nEnter 5 For Power\")\n",
    "Operation = int(input(\"Enter Which Operation You Want to Performed \"))\n",
    "a = float(input())\n",
    "b =  float (input())\n",
    "if Operation == 1:\n",
    "    print(a+b)\n",
    "if Operation == 2:\n",
    "    print(a-b)\n",
    "if Operation == 3:\n",
    "    print(a*b)\n",
    "if Operation == 4:\n",
    "    print(a/b)\n",
    "if Operation == 5:\n",
    "    print(pow(a,b))"
   ]
  },
  {
   "cell_type": "markdown",
   "metadata": {},
   "source": [
    "# 2. Write a program to check if there is any numeric value in list using for loop"
   ]
  },
  {
   "cell_type": "code",
   "execution_count": 84,
   "metadata": {},
   "outputs": [],
   "source": [
    "lis2 = ['karachi','hydrabad','kashmore','nawabshah','taatha','sakar','mirpurkash1', -1, 2, 3, 5, 8, 13, 21, 34, 55, 89]"
   ]
  },
  {
   "cell_type": "code",
   "execution_count": 85,
   "metadata": {},
   "outputs": [
    {
     "name": "stdout",
     "output_type": "stream",
     "text": [
      "yes, Numeric Value is present\n"
     ]
    }
   ],
   "source": [
    "for i in lis2:\n",
    "    if lis2.pop() > 0 or lis2.pop < 0:\n",
    "        print(\"yes, Numeric Value is present\")\n",
    "        break\n",
    "    else:\n",
    "        print(\"Not Present\")\n",
    "        break"
   ]
  },
  {
   "cell_type": "markdown",
   "metadata": {},
   "source": [
    "# 3. Write a Python script to add a key to a dictionary"
   ]
  },
  {
   "cell_type": "code",
   "execution_count": 73,
   "metadata": {},
   "outputs": [],
   "source": [
    "dis =  {}\n",
    "def key(keys,values):     # keys and values are passing to a function\n",
    "    dis[keys] = values\n",
    "\n",
    "key(1,2)\n",
    "key(4,5)    "
   ]
  },
  {
   "cell_type": "code",
   "execution_count": 74,
   "metadata": {},
   "outputs": [
    {
     "name": "stdout",
     "output_type": "stream",
     "text": [
      "{1: 2, 4: 5}\n"
     ]
    }
   ],
   "source": [
    "print(dis)"
   ]
  },
  {
   "cell_type": "markdown",
   "metadata": {},
   "source": [
    "# 4. Write a Python program to sum all the numeric items in a dictionary"
   ]
  },
  {
   "cell_type": "code",
   "execution_count": 118,
   "metadata": {},
   "outputs": [],
   "source": [
    "dis = {'pakistan':1,'India':21,'Srilanka':5,'Bangladesh':4}"
   ]
  },
  {
   "cell_type": "code",
   "execution_count": 141,
   "metadata": {},
   "outputs": [],
   "source": [
    "sums = 0\n",
    "for i in dis:\n",
    "    sums += dis[i]\n",
    "    "
   ]
  },
  {
   "cell_type": "code",
   "execution_count": 174,
   "metadata": {},
   "outputs": [
    {
     "data": {
      "text/plain": [
       "['a']"
      ]
     },
     "execution_count": 174,
     "metadata": {},
     "output_type": "execute_result"
    }
   ],
   "source": [
    "['a']"
   ]
  },
  {
   "cell_type": "code",
   "execution_count": 175,
   "metadata": {},
   "outputs": [
    {
     "data": {
      "text/plain": [
       "31"
      ]
     },
     "execution_count": 175,
     "metadata": {},
     "output_type": "execute_result"
    }
   ],
   "source": [
    "sums"
   ]
  },
  {
   "cell_type": "markdown",
   "metadata": {},
   "source": [
    "# 5. Write a program to identify duplicate values from list"
   ]
  },
  {
   "cell_type": "code",
   "execution_count": 184,
   "metadata": {},
   "outputs": [
    {
     "name": "stdout",
     "output_type": "stream",
     "text": [
      "[20, 30, -20, 60]\n"
     ]
    }
   ],
   "source": [
    "def Repeat(x): \n",
    "    _size = len(x) \n",
    "    repeated = [] \n",
    "    for i in range(_size): \n",
    "        k = i + 1\n",
    "        for j in range(k, _size): \n",
    "            if x[i] == x[j] and x[i] not in repeated: \n",
    "                repeated.append(x[i]) \n",
    "    return repeated \n",
    "# Driver Code \n",
    "list1 = [10, 20, 30, 20, 20, 30, 40,  \n",
    "         50, -20, 60, 60, -20, -20] \n",
    "print (Repeat(list1)) "
   ]
  },
  {
   "cell_type": "markdown",
   "metadata": {},
   "source": [
    "# \n",
    "\n",
    "\n",
    "\n",
    "\n",
    "\n",
    "\n",
    "\n",
    "\n",
    "\n",
    "\n",
    "\n",
    "\n",
    "\n",
    "\n",
    "0sa ['j','']"
   ]
  },
  {
   "cell_type": "markdown",
   "metadata": {},
   "source": [
    "# 6. Write a Python script to check if a given key already exists in a dictionary"
   ]
  },
  {
   "cell_type": "code",
   "execution_count": 61,
   "metadata": {},
   "outputs": [],
   "source": [
    "dis = {1:'a',2:'b',4:'c'}"
   ]
  },
  {
   "cell_type": "code",
   "execution_count": 64,
   "metadata": {},
   "outputs": [],
   "source": [
    "def keyCheck(inp):\n",
    "    for i in dis.keys():\n",
    "        if i == inp:\n",
    "            return print(\"The {} key is already present\".format(inp))\n",
    "       \n",
    "    else:\n",
    "            return print(\"The {} key is not present\".format(inp))\n",
    "    "
   ]
  },
  {
   "cell_type": "code",
   "execution_count": 65,
   "metadata": {},
   "outputs": [
    {
     "name": "stdout",
     "output_type": "stream",
     "text": [
      "The 2 key is already present\n"
     ]
    }
   ],
   "source": [
    "keyCheck(2)"
   ]
  },
  {
   "cell_type": "markdown",
   "metadata": {},
   "source": [
    "# Certified Python Programming\n",
    "# Assignment # 4\n"
   ]
  },
  {
   "cell_type": "markdown",
   "metadata": {},
   "source": [
    "# Use a dictionary to store information about a person you know. Store their first name, last name, age, and the city in which they live. You should have keys such as first_name, last_name, age, and city. Print each piece of information stored in your dictionary. Add a new key value pair about qualification then update the qualification value to high academic level then delete it."
   ]
  },
  {
   "cell_type": "code",
   "execution_count": 117,
   "metadata": {},
   "outputs": [],
   "source": [
    "dis_information = {'First Name':'Waqas','Last Name':'Ahmed','Age':'23','City':'Karachi'}\n",
    "def information(Qualf):\n",
    "    print(\"All Information\\n\\n\")\n",
    "    print(dis_information.values())\n",
    "    dis_information['Qualifcation'] = Qualf\n",
    "    print(\"\\n\\nUpdating Qualification\")\n",
    "    print(dis_information.values())\n",
    "    print(\"\\n\\nDeleting Qulification\")\n",
    "    dis_information.pop('Qualifcation')\n",
    "    print(dis_information.values())\n",
    "        "
   ]
  },
  {
   "cell_type": "code",
   "execution_count": 118,
   "metadata": {},
   "outputs": [
    {
     "name": "stdout",
     "output_type": "stream",
     "text": [
      "All Information\n",
      "\n",
      "\n",
      "dict_values(['Waqas', 'Ahmed', '23', 'Karachi'])\n",
      "\n",
      "\n",
      "Updating Qualificatio\n",
      "dict_values(['Waqas', 'Ahmed', '23', 'Karachi', 'matrix'])\n",
      "\n",
      "\n",
      "Deleting Qulification\n",
      "dict_values(['Waqas', 'Ahmed', '23', 'Karachi'])\n"
     ]
    }
   ],
   "source": [
    "information('matrix')"
   ]
  },
  {
   "cell_type": "markdown",
   "metadata": {},
   "source": [
    "# Question2:\n",
    "Make a dictionary called cities. Use the names of three cities as keys in your dictionary. Create a dictionary of information about each city and include the country that the city is in, its approximate population, and one fact about that city. The keys for each city’s dictionary should be something like country, population, and fact. Print the name of each city and all of the information you have stored about it.\n"
   ]
  },
  {
   "cell_type": "code",
   "execution_count": 126,
   "metadata": {},
   "outputs": [],
   "source": [
    "dis_cities = {'Karachi','new york','dehli'}\n",
    "information = {'pakistan'}\n",
    "# sorry but i can understand this question\n"
   ]
  },
  {
   "cell_type": "code",
   "execution_count": 127,
   "metadata": {},
   "outputs": [
    {
     "data": {
      "text/plain": [
       "{'Karachi', 'dehli', 'new york'}"
      ]
     },
     "execution_count": 127,
     "metadata": {},
     "output_type": "execute_result"
    }
   ],
   "source": [
    "dis_cities"
   ]
  },
  {
   "cell_type": "markdown",
   "metadata": {},
   "source": [
    "# Question3:\n",
    "A movie theater charges different ticket prices depending on a person’s age. If a person is under the age of 3, the ticket is free; if they are between 3 and 12, the ticket is $10; and if they are over age 12, the ticket is $15. Write a loop in which you ask users their age, and then tell them the cost of their movie ticket.\n"
   ]
  },
  {
   "cell_type": "code",
   "execution_count": 130,
   "metadata": {},
   "outputs": [
    {
     "name": "stdout",
     "output_type": "stream",
     "text": [
      "Enter Your Age\n",
      "3\n",
      "Your Ticket is Free\n",
      "\n",
      "\n",
      " You Want To Enter Again (YES | NO ) \n",
      "yes\n",
      "Enter Your Age\n",
      "4\n",
      "Your Ticket Price is 10\n",
      "\n",
      "\n",
      " You Want To Enter Again (YES | NO ) \n",
      "no\n"
     ]
    }
   ],
   "source": [
    "age = 0\n",
    "s = ''\n",
    "while True:\n",
    "    print(\"Enter Your Age\")\n",
    "    age = int(input())\n",
    "    if age <= 3:\n",
    "        print(\"Your Ticket is Free\")\n",
    "    elif age > 3 or age < 12:\n",
    "        print(\"Your Ticket Price is 10\")\n",
    "    else:\n",
    "        print(\"Your Ticket price is 15\")\n",
    "    \n",
    "    print(\"\\n\\n You Want To Enter Again (YES | NO ) \")\n",
    "    s = input()\n",
    "    if s == 'no':\n",
    "        break\n",
    "    "
   ]
  },
  {
   "cell_type": "markdown",
   "metadata": {},
   "source": [
    "# Question4:\n",
    "Write a function called favorite_book() that accepts one parameter, title. The function should print a message, such as One of my favorite books is Alice in Wonderland. Call the function, making sure to include a book title as an argument in the function call.\n",
    "\n"
   ]
  },
  {
   "cell_type": "code",
   "execution_count": 136,
   "metadata": {},
   "outputs": [],
   "source": [
    "def favorite_book(title):\n",
    "    \n",
    "    return print(\"My Favorite book is  {}\".format(title))\n",
    "    \n",
    "    "
   ]
  },
  {
   "cell_type": "code",
   "execution_count": 138,
   "metadata": {},
   "outputs": [
    {
     "name": "stdout",
     "output_type": "stream",
     "text": [
      "My Favorite book is  karachi\n"
     ]
    }
   ],
   "source": [
    "favorite_book(\"karachi\")"
   ]
  },
  {
   "cell_type": "markdown",
   "metadata": {},
   "source": [
    "# Question5:\n",
    "Guess the number game\n",
    "Write a program which randomly generate a number between 1 to 30 and ask the user in input field to guess the correct number. Give three chances to user guess the number and also give hint to user if hidden number is greater or smaller than the number he given to input field.\n"
   ]
  },
  {
   "cell_type": "code",
   "execution_count": null,
   "metadata": {},
   "outputs": [],
   "source": [
    "import random as r\n",
    "i = 0\n",
    "while i < 3:\n",
    "    s = r.randrange(1,30)\n",
    "    inp = int(input())\n",
    "    if inp == s:\n",
    "        print(\"Your Gauss is True\")\n",
    "        break\n",
    "    else:\n",
    "        i = i+1\n",
    "\n",
    "        "
   ]
  },
  {
   "cell_type": "markdown",
   "metadata": {},
   "source": [
    "# Python Assignment # 5\n",
    "Question:1 Write a Python function to calculate the factorial of a number (a non-negative integer). The function accepts the number as an argument."
   ]
  },
  {
   "cell_type": "code",
   "execution_count": 186,
   "metadata": {},
   "outputs": [
    {
     "name": "stdout",
     "output_type": "stream",
     "text": [
      "Enter A Whole Number5\n",
      "Factorial of 5 is 120 \n"
     ]
    }
   ],
   "source": [
    "Enter_factorial = int(input(\"Enter A Whole Number\"))\n",
    "fact = 1\n",
    "for i in range(1,Enter_factorial+1):\n",
    "    fact *= i\n",
    "print(\"Factorial of {} is {} \".format(Enter_factorial,fact))\n",
    "    "
   ]
  },
  {
   "cell_type": "markdown",
   "metadata": {},
   "source": [
    "# Question:2 Write a Python function that accepts a string and calculate the number of upper case letters and lower case letters."
   ]
  },
  {
   "cell_type": "code",
   "execution_count": 218,
   "metadata": {},
   "outputs": [
    {
     "name": "stdout",
     "output_type": "stream",
     "text": [
      "Enter StringKarachi is the Capital of pakistan in Early nineteen\n"
     ]
    }
   ],
   "source": [
    "String_input = input(\"Enter String \")\n"
   ]
  },
  {
   "cell_type": "code",
   "execution_count": 232,
   "metadata": {},
   "outputs": [],
   "source": [
    "s = String_input.split()\n",
    "Upper_count = 0\n",
    "Lower_count = 0\n",
    "for i in range(len(s)):\n",
    "    if s[i] == s[i].title():\n",
    "        Upper_count = Upper_count +1\n",
    "    else:\n",
    "        Lower_count = Lower_count+1        \n"
   ]
  },
  {
   "cell_type": "code",
   "execution_count": 233,
   "metadata": {},
   "outputs": [
    {
     "name": "stdout",
     "output_type": "stream",
     "text": [
      "3\n",
      "6\n"
     ]
    }
   ],
   "source": [
    "print(Upper_count)\n",
    "print(Lower_count)"
   ]
  },
  {
   "cell_type": "markdown",
   "metadata": {},
   "source": [
    "# Write a Python function to print the even numbers from a given list."
   ]
  },
  {
   "cell_type": "code",
   "execution_count": 273,
   "metadata": {},
   "outputs": [],
   "source": [
    "lis = range(10)\n",
    "def Even():\n",
    "    for i in lis:\n",
    "        if i % 2 == 0:\n",
    "            print(i)"
   ]
  },
  {
   "cell_type": "code",
   "execution_count": 275,
   "metadata": {},
   "outputs": [
    {
     "name": "stdout",
     "output_type": "stream",
     "text": [
      "0\n",
      "2\n",
      "4\n",
      "6\n",
      "8\n"
     ]
    }
   ],
   "source": [
    "Even()"
   ]
  },
  {
   "cell_type": "markdown",
   "metadata": {},
   "source": [
    "# Question:4 Write a Python function that checks whether a passed string is palindrome or not. Note: A palindrome is a word, phrase, or sequence that reads the same backward as forward, e.g., madam"
   ]
  },
  {
   "cell_type": "code",
   "execution_count": 331,
   "metadata": {},
   "outputs": [
    {
     "name": "stdout",
     "output_type": "stream",
     "text": [
      "Not Palindrome\n"
     ]
    }
   ],
   "source": [
    "string = \"MaDAM\"\n",
    "lis = []\n",
    "rev = []\n",
    "k = len(string)\n",
    "for i in string:\n",
    "    lis.append(i)\n",
    "rev = lis[::-1]\n",
    "for j in range(len(string)):\n",
    "    if lis[j] == rev[j]:\n",
    "        if j == k-1:\n",
    "            print(\"yes\")\n",
    "    else :\n",
    "        print(\"Not Palindrome\")\n",
    "        break"
   ]
  },
  {
   "cell_type": "code",
   "execution_count": 334,
   "metadata": {},
   "outputs": [
    {
     "name": "stdout",
     "output_type": "stream",
     "text": [
      "Not palindrome\n"
     ]
    }
   ],
   "source": [
    "# Another Method is \n",
    "if rev == lis:\n",
    "    print(\"Palindrome\")\n",
    "else :\n",
    "    print(\"Not palindrome\")"
   ]
  },
  {
   "cell_type": "markdown",
   "metadata": {},
   "source": [
    "# Question:5 Write a Python function that takes a number as a parameter and check the number is prime or not."
   ]
  },
  {
   "cell_type": "code",
   "execution_count": 443,
   "metadata": {},
   "outputs": [],
   "source": [
    "def PCheck(p):\n",
    "    for i in range(2,p-1):        \n",
    "         if p % i == 0:\n",
    "            print('not prime number')\n",
    "            break\n",
    "            \n",
    "            \n",
    "       \n",
    "        \n",
    "   # print(\"Prime Number\")\n",
    "            \n",
    "\n"
   ]
  },
  {
   "cell_type": "markdown",
   "metadata": {},
   "source": [
    "# Question: 6 Suppose a customer is shopping in a market and you need to print all the items which user bought from market. Write a function which accepts the multiple arguments of user shopping list and print all the items which user bought from market."
   ]
  },
  {
   "cell_type": "markdown",
   "metadata": {},
   "source": [
    "# Assignment # 6"
   ]
  },
  {
   "cell_type": "markdown",
   "metadata": {},
   "source": [
    "# Question 1:\n",
    "Define Object Oriented Programming Language?"
   ]
  },
  {
   "cell_type": "code",
   "execution_count": 9,
   "metadata": {},
   "outputs": [],
   "source": [
    "# object oriented programming is object base approach of programming paradigm, means that object contain the\n",
    "#the data in the form of field and  procedures "
   ]
  },
  {
   "cell_type": "markdown",
   "metadata": {},
   "source": [
    "# Question 2:\n",
    "List down the Benefits of OOP?"
   ]
  },
  {
   "cell_type": "code",
   "execution_count": 10,
   "metadata": {},
   "outputs": [],
   "source": [
    "# A huge code of block can seperated into class and further method, it is easlily to understand \n",
    "# modified and debugs."
   ]
  },
  {
   "cell_type": "markdown",
   "metadata": {},
   "source": [
    "# Question 3:\n",
    "Differentiate between function and method?"
   ]
  },
  {
   "cell_type": "code",
   "execution_count": 11,
   "metadata": {},
   "outputs": [],
   "source": [
    "# Although basic functionallity of both function and method are same but method can be associated \n",
    "# with object, function doesn't"
   ]
  },
  {
   "cell_type": "code",
   "execution_count": null,
   "metadata": {},
   "outputs": [],
   "source": []
  },
  {
   "cell_type": "markdown",
   "metadata": {},
   "source": [
    "# Question 4:\n",
    "Define the following terms:\n",
    "1. Class\n",
    "2. Object\n",
    "3. Attribute\n",
    "4. Behavior"
   ]
  },
  {
   "cell_type": "markdown",
   "metadata": {},
   "source": [
    "i) Class is blue print\n",
    "ii) method, and as such, is a value in memory referenced by an identifier.\n",
    "iii) Attributes is define as property of an object.\n",
    "iv) Behaviour simply to say parent and child relation of a class."
   ]
  },
  {
   "cell_type": "code",
   "execution_count": null,
   "metadata": {},
   "outputs": [],
   "source": []
  },
  {
   "cell_type": "markdown",
   "metadata": {},
   "source": [
    "# Question 5:\n",
    "Write a code in python in which create a class named it Car which have 5 attributes such like (model, color and name etc.) and 3 methods. And create 5 object instance from that class."
   ]
  },
  {
   "cell_type": "code",
   "execution_count": 6,
   "metadata": {},
   "outputs": [
    {
     "name": "stdout",
     "output_type": "stream",
     "text": [
      "white\n",
      "honda\n",
      "corolla\n"
     ]
    }
   ],
   "source": [
    "class Car:\n",
    "\n",
    "    def __init__(self, model, color, name, CC, Engine_no):\n",
    "        self.name = name\n",
    "        self.color = color\n",
    "        self.CC = CC\n",
    "        self.model = model\n",
    "        self.Engine_no = Engine_no\n",
    "\n",
    "    def Model(model):\n",
    "        return model\n",
    "    def Color(color):\n",
    "        return color\n",
    "    def Eng_no(Engine_no):\n",
    "        return Engine_no\n",
    "\n",
    "Car  = Car('honda','white','corolla','1346','ED-4695463')\n",
    "\n",
    "\n",
    "\n",
    "print(Car.color)\n",
    "print(Car.model)\n",
    "print(Car.name)\n"
   ]
  },
  {
   "cell_type": "code",
   "execution_count": null,
   "metadata": {},
   "outputs": [],
   "source": []
  }
 ],
 "metadata": {
  "kernelspec": {
   "display_name": "Python 3",
   "language": "python",
   "name": "python3"
  },
  "language_info": {
   "codemirror_mode": {
    "name": "ipython",
    "version": 3
   },
   "file_extension": ".py",
   "mimetype": "text/x-python",
   "name": "python",
   "nbconvert_exporter": "python",
   "pygments_lexer": "ipython3",
   "version": "3.7.3"
  }
 },
 "nbformat": 4,
 "nbformat_minor": 2
}
